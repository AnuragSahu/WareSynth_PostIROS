{
 "cells": [
  {
   "cell_type": "code",
   "execution_count": 1,
   "id": "07d25fce",
   "metadata": {},
   "outputs": [],
   "source": [
    "import cv2\n",
    "import numpy as np\n",
    "import matplotlib.pyplot as plt"
   ]
  },
  {
   "cell_type": "code",
   "execution_count": 24,
   "id": "a39c6ceb",
   "metadata": {},
   "outputs": [
    {
     "name": "stdout",
     "output_type": "stream",
     "text": [
      "426 158 10 38\n",
      "116 158 288 38\n",
      "88 158 9 38\n",
      "75 158 6 38\n"
     ]
    },
    {
     "data": {
      "text/plain": [
       "True"
      ]
     },
     "execution_count": 24,
     "metadata": {},
     "output_type": "execute_result"
    }
   ],
   "source": [
    "def chop_corners(img_OG):\n",
    "    # create a copy\n",
    "    img = img_OG.copy()\n",
    "    \n",
    "    img[img==255] = 0\n",
    "    # get the bbox for shelf\n",
    "    thresh = cv2.threshold(img, 0, 255, cv2.THRESH_BINARY)[1]\n",
    "    contours = cv2.findContours(thresh, cv2.RETR_EXTERNAL, cv2.CHAIN_APPROX_NONE)\n",
    "    contours = contours[0] if len(contours) == 2 else contours[1]\n",
    "    result = img.copy()\n",
    "    bbox_x = []\n",
    "    bbox_y = []\n",
    "    bbox_h = []\n",
    "    bbox_w = []\n",
    "    for c in contours:\n",
    "        x,y,w,h = cv2.boundingRect(c)\n",
    "        print(x,y,w,h)\n",
    "        bbox_x.append(x)\n",
    "        bbox_y.append(y)\n",
    "        bbox_w.append(w)\n",
    "        bbox_h.append(h)\n",
    "\n",
    "    # find the lowest x\n",
    "    x = min(bbox_x)\n",
    "    \n",
    "    # find the lowest y\n",
    "    y = min(bbox_y)\n",
    "    \n",
    "    # find the width\n",
    "    # get the right most x\n",
    "    for a in range(len(bbox_x)):\n",
    "        bbox_x[a] += bbox_w[a]\n",
    "        \n",
    "    # get the maximum x\n",
    "    x_max = max(bbox_x)\n",
    "    \n",
    "    # get the final width\n",
    "    w = x_max - x\n",
    "    \n",
    "    # similarly get y\n",
    "    for a in range(len(bbox_y)):\n",
    "        bbox_y[a] += bbox_h[a]\n",
    "        \n",
    "    # get the maximum x\n",
    "    y_max = max(bbox_y)\n",
    "    \n",
    "    # get the final width\n",
    "    h = y_max - y\n",
    "    \n",
    "    rack_bbox = [x, y, w, h]\n",
    "    \n",
    "    # now make the region outside this region as black\n",
    "    for row in range(len(img)):\n",
    "        for col in range(len(img[row])):\n",
    "            if(row < rack_bbox[0]+rack_bbox[2] and row > rack_bbox[0] and\n",
    "               col < rack_bbox[1]+rack_bbox[3] and col > rack_bbox[1]):\n",
    "                # do nothing\n",
    "                pass\n",
    "            else:\n",
    "                # make it black\n",
    "                img_OG[col, row] = 0\n",
    "    \n",
    "    return img_OG\n",
    "    \n",
    "# Read the GREY image\n",
    "img = cv2.imread(\"/home/anurag/Research/data/debugOutputs/front000001_2.png\", 0)\n",
    "chop_corners(img)\n",
    "cv2.imwrite(\"test.png\", img)"
   ]
  },
  {
   "cell_type": "code",
   "execution_count": 13,
   "id": "5a7adb3c",
   "metadata": {},
   "outputs": [
    {
     "data": {
      "image/png": "[encoded data removed]",
      "text/plain": [
       "<Figure size 432x288 with 1 Axes>"
      ]
     },
     "metadata": {
      "needs_background": "light"
     },
     "output_type": "display_data"
    }
   ],
   "source": []
  }
 ],
 "metadata": {
  "kernelspec": {
   "display_name": "Python 3",
   "language": "python",
   "name": "python3"
  },
  "language_info": {
   "codemirror_mode": {
    "name": "ipython",
    "version": 3
   },
   "file_extension": ".py",
   "mimetype": "text/x-python",
   "name": "python",
   "nbconvert_exporter": "python",
   "pygments_lexer": "ipython3",
   "version": "3.8.8"
  }
 },
 "nbformat": 4,
 "nbformat_minor": 5
}
