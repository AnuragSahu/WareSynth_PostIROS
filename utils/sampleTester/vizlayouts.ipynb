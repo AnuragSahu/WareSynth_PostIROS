{
 "cells": [
  {
   "cell_type": "code",
   "execution_count": 2,
   "metadata": {},
   "outputs": [],
   "source": [
    "import numpy as np\n",
    "import cv2\n",
    "import matplotlib.pyplot as plt"
   ]
  },
  {
   "cell_type": "code",
   "execution_count": 9,
   "metadata": {},
   "outputs": [
    {
     "data": {
      "image/png": "[encoded data removed]",
      "text/plain": [
       "<Figure size 432x288 with 1 Axes>"
      ]
     },
     "metadata": {},
     "output_type": "display_data"
    }
   ],
   "source": [
    "frontView = False\n",
    "\n",
    "def getImages(labelNumber):\n",
    "    \n",
    "    ID = str(labelNumber).zfill(6) + \".npy\"\n",
    "    relPath = \"./\"\n",
    "    topShelf = relPath + \"top\"+ID\n",
    "    if(frontView):\n",
    "        frontShelf = relPath + \"front\"+ID\n",
    "    \n",
    "    topShelfFile = np.load(topShelf)\n",
    "    if(frontView):\n",
    "        frontShelfFile = np.load(frontShelf)\n",
    "    \n",
    "    frontViewLayout = []\n",
    "    topView = []\n",
    "    for m in range(4):\n",
    "        \n",
    "        ts = topShelfFile[m,:,:]\n",
    "        if(frontView):\n",
    "            fs = frontShelfFile[m,:,:]\n",
    "                    \n",
    "        if(frontView):\n",
    "            frontView.append(fs)\n",
    "            \n",
    "        topView.append(ts)\n",
    "    return frontViewLayout, topView\n",
    "\n",
    "def viz_layouts(frontView, topView):\n",
    "    plt.figure()\n",
    "    fig, ax = plt.subplots(nrows=1, ncols=2,figsize=(10,10))\n",
    "\n",
    "    m = 0\n",
    "    for row in ax:\n",
    "        for col in row:\n",
    "            if(m%2 == 0 and frontView):\n",
    "                cv2.imwrite(\"front\"+str(int(m/2))+\".png\", topView[int(m/2)])\n",
    "                col.imshow(topView[int(m/2)], cmap=\"gray\")\n",
    "                col.title.set_text('Top View of shelf number : %d'% (int(m/2)+1))\n",
    "            else:\n",
    "                cv2.imwrite(\"top\"+str(int(m/2))+\".png\", frontView[int(m/2)])\n",
    "                col.imshow(frontView[int(m/2)], cmap=\"gray\")\n",
    "                col.title.set_text('Front View of shelf number : %d'% (int(m/2)+1))\n",
    "            col.axis('off')\n",
    "            m += 1\n",
    "    plt.show()\n",
    "            \n",
    "\n",
    "labelNumberToAnnotate = 219\n",
    "\n",
    "frontViewLayout, topView = getImages(labelNumberToAnnotate)\n",
    "for i in range(len(topView)):\n",
    "    plt.imshow(topView[0], cmap=\"gray\")\n",
    "    cv2.imwrite(str(labelNumberToAnnotate)+\"_\"+str(i)+\".png\", topView[i])\n",
    "#print(topView[0].shape)\n",
    "#print(np.unique(topView[0]))"
   ]
  }
 ],
 "metadata": {
  "kernelspec": {
   "display_name": "Python 3",
   "language": "python",
   "name": "python3"
  },
  "language_info": {
   "codemirror_mode": {
    "name": "ipython",
    "version": 3
   },
   "file_extension": ".py",
   "mimetype": "text/x-python",
   "name": "python",
   "nbconvert_exporter": "python",
   "pygments_lexer": "ipython3",
   "version": "3.6.9"
  }
 },
 "nbformat": 4,
 "nbformat_minor": 2
}
