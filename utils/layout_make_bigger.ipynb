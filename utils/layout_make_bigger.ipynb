{
 "cells": [
  {
   "cell_type": "code",
   "execution_count": 23,
   "id": "911b7446",
   "metadata": {},
   "outputs": [
    {
     "name": "stdout",
     "output_type": "stream",
     "text": [
      "(512, 512, 3)\n"
     ]
    },
    {
     "data": {
      "text/plain": [
       "<matplotlib.image.AxesImage at 0x7fe063f2f310>"
      ]
     },
     "execution_count": 23,
     "metadata": {},
     "output_type": "execute_result"
    },
    {
     "data": {
      "image/png": "[encoded data removed]",
      "text/plain": [
       "<Figure size 432x288 with 1 Axes>"
      ]
     },
     "metadata": {
      "needs_background": "light"
     },
     "output_type": "display_data"
    }
   ],
   "source": [
    "import cv2\n",
    "import matplotlib.pyplot as plt\n",
    "\n",
    "def getZommedLayout(layout):\n",
    "    layout = cv2.resize(layout, None, fx = 10/8, fy = 10/8, interpolation = cv2.INTER_NEAREST)\n",
    "    l,h = layout.shape[0], layout.shape[1]\n",
    "    center_x, center_y = int(l/2), int(h/2)\n",
    "    layout = layout[center_x - int(512/2):center_x + int(512/2), center_y - int(512/2):center_y + int(512/2) ]\n",
    "    print(layout.shape)\n",
    "    return layout\n",
    "\n",
    "layout_path = \"/home/anurag/Research/Unity/data_8/debugOutputs/front000045_0.png\"\n",
    "layout = cv2.imread(layout_path)\n",
    "layout = getZommedLayout(layout)\n",
    "plt.imshow(layout)"
   ]
  },
  {
   "cell_type": "code",
   "execution_count": 19,
   "id": "cf25ebce",
   "metadata": {},
   "outputs": [
    {
     "name": "stdout",
     "output_type": "stream",
     "text": [
      "512 512\n"
     ]
    },
    {
     "data": {
      "text/plain": [
       "<matplotlib.image.AxesImage at 0x7fe063dd4df0>"
      ]
     },
     "execution_count": 19,
     "metadata": {},
     "output_type": "execute_result"
    },
    {
     "data": {
      "image/png": "[encoded data removed]",
      "text/plain": [
       "<Figure size 432x288 with 1 Axes>"
      ]
     },
     "metadata": {
      "needs_background": "light"
     },
     "output_type": "display_data"
    }
   ],
   "source": [
    "layout = cv2.resize(layout, None, fx = 1, fy = 1, interpolation = cv2.INTER_NEAREST)\n",
    "l,h = layout.shape[0], layout.shape[1]\n",
    "center_x, center_y = int(l/2), int(h/2)\n",
    "print(l,h)\n",
    "layout = layout[center_x - int(512/2):center_x + int(512/2), center_y - int(512/2):center_y + int(512/2) ]\n",
    "# cv2.imwrite(\"test.png\", layout)\n",
    "plt.imshow(layout)"
   ]
  }
 ],
 "metadata": {
  "kernelspec": {
   "display_name": "Python 3",
   "language": "python",
   "name": "python3"
  },
  "language_info": {
   "codemirror_mode": {
    "name": "ipython",
    "version": 3
   },
   "file_extension": ".py",
   "mimetype": "text/x-python",
   "name": "python",
   "nbconvert_exporter": "python",
   "pygments_lexer": "ipython3",
   "version": "3.8.8"
  }
 },
 "nbformat": 4,
 "nbformat_minor": 5
}
